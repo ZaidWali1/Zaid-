{
 "cells": [
  {
   "cell_type": "code",
   "execution_count": 1,
   "id": "f8800a7a",
   "metadata": {},
   "outputs": [],
   "source": [
    "import tkinter as tk\n",
    "from tkinter import*"
   ]
  },
  {
   "cell_type": "code",
   "execution_count": 14,
   "id": "f37eb0e1",
   "metadata": {},
   "outputs": [],
   "source": [
    "root = tk.Tk()\n",
    "root.title(\"Registration form\")\n",
    "root.geometry(\"800x800\")\n",
    "label_0 = Label(root, text=\"Registration form\",width=20,font=(\"bold\", 20))\n",
    "label_0.place(x=90,y=53)\n",
    "\n",
    "\n",
    "label_1 = Label(root, text=\"FullName\",width=20,font=(\"bold\", 10))\n",
    "label_1.place(x=80,y=130)\n",
    "\n",
    "entry_1 = Entry(root)\n",
    "entry_1.place(x=240,y=130)\n",
    "\n",
    "label_2 = Label(root, text=\"Email\",width=20,font=(\"bold\", 10))\n",
    "label_2.place(x=68,y=180)\n",
    "\n",
    "entry_2 = Entry(root)\n",
    "entry_2.place(x=240,y=180)\n",
    "\n",
    "label_3 = Label(root, text=\"Gender\",width=20,font=(\"bold\", 10))\n",
    "label_3.place(x=70,y=230)\n",
    "var = IntVar()\n",
    "Radiobutton(root, text=\"Male\",padx = 5, variable=var, value=1).place(x=235,y=230)\n",
    "Radiobutton(root, text=\"Female\",padx = 20, variable=var, value=2).place(x=290,y=230)\n",
    "\n",
    "label_4 = Label(root, text=\"Country:\",width=20,font=(\"bold\", 10))\n",
    "label_4.place(x=70,y=280)\n",
    "\n",
    "label_3 = Label(root, text=\"Programming\",width=20,font=(\"bold\", 10))\n",
    "label_3.place(x=70,y=320)\n",
    "                \n",
    "var = IntVar()\n",
    "Radiobutton(root, text=\"python\",padx = 5, variable=var, value=1).place(x=235,y=320)\n",
    "Radiobutton(root, text=\"Javascript\",padx = 20, variable=var, value=2).place(x=290,y=320)\n",
    "\n",
    "\n",
    "entry_2 = Entry(root)\n",
    "entry_2.place(x=240,y=280)\n",
    "\n",
    "Button(root, text='Submit',width=20,bg='brown',fg='white').place(x=180,y=380)\n",
    "root.mainloop()"
   ]
  },
  {
   "cell_type": "code",
   "execution_count": null,
   "id": "24a4b801",
   "metadata": {},
   "outputs": [],
   "source": []
  },
  {
   "cell_type": "code",
   "execution_count": null,
   "id": "0d441f0c",
   "metadata": {},
   "outputs": [],
   "source": []
  },
  {
   "cell_type": "code",
   "execution_count": null,
   "id": "bcf1d31c",
   "metadata": {},
   "outputs": [],
   "source": []
  }
 ],
 "metadata": {
  "kernelspec": {
   "display_name": "Python 3 (ipykernel)",
   "language": "python",
   "name": "python3"
  },
  "language_info": {
   "codemirror_mode": {
    "name": "ipython",
    "version": 3
   },
   "file_extension": ".py",
   "mimetype": "text/x-python",
   "name": "python",
   "nbconvert_exporter": "python",
   "pygments_lexer": "ipython3",
   "version": "3.8.9"
  }
 },
 "nbformat": 4,
 "nbformat_minor": 5
}
